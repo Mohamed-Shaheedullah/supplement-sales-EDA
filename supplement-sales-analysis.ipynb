{
 "cells": [
  {
   "cell_type": "markdown",
   "id": "1426def5",
   "metadata": {},
   "source": [
    "### Supplement Sales EDA \n",
    "https://www.kaggle.com/datasets/zahidmughal2343/supplement-sales-data\n"
   ]
  },
  {
   "cell_type": "code",
   "execution_count": 1,
   "id": "617ad938",
   "metadata": {},
   "outputs": [],
   "source": [
    "import pandas as pd\n",
    "import numpy as np\n",
    "import seaborn as sns\n",
    "import matplotlib.pyplot as plt\n"
   ]
  },
  {
   "cell_type": "code",
   "execution_count": 3,
   "id": "75c0a34e",
   "metadata": {},
   "outputs": [
    {
     "data": {
      "application/vnd.microsoft.datawrangler.viewer.v0+json": {
       "columns": [
        {
         "name": "Date",
         "rawType": "datetime64[ns]",
         "type": "datetime"
        },
        {
         "name": "Product Name",
         "rawType": "object",
         "type": "string"
        },
        {
         "name": "Category",
         "rawType": "object",
         "type": "string"
        },
        {
         "name": "Units Sold",
         "rawType": "int64",
         "type": "integer"
        },
        {
         "name": "Price",
         "rawType": "float64",
         "type": "float"
        },
        {
         "name": "Revenue",
         "rawType": "float64",
         "type": "float"
        },
        {
         "name": "Discount",
         "rawType": "float64",
         "type": "float"
        },
        {
         "name": "Units Returned",
         "rawType": "int64",
         "type": "integer"
        },
        {
         "name": "Location",
         "rawType": "object",
         "type": "string"
        },
        {
         "name": "Platform",
         "rawType": "object",
         "type": "string"
        }
       ],
       "conversionMethod": "pd.DataFrame",
       "ref": "076c85dc-baff-4ad6-b484-304b25d93b13",
       "rows": [
        [
         "2020-01-06 00:00:00",
         "Whey Protein",
         "Protein",
         "143",
         "31.98",
         "4573.14",
         "0.03",
         "2",
         "Canada",
         "Walmart"
        ],
        [
         "2020-01-06 00:00:00",
         "Vitamin C",
         "Vitamin",
         "139",
         "42.51",
         "5908.89",
         "0.04",
         "0",
         "UK",
         "Amazon"
        ],
        [
         "2020-01-06 00:00:00",
         "Fish Oil",
         "Omega",
         "161",
         "12.91",
         "2078.51",
         "0.25",
         "0",
         "Canada",
         "Amazon"
        ],
        [
         "2020-01-06 00:00:00",
         "Multivitamin",
         "Vitamin",
         "140",
         "16.07",
         "2249.8",
         "0.08",
         "0",
         "Canada",
         "Walmart"
        ],
        [
         "2020-01-06 00:00:00",
         "Pre-Workout",
         "Performance",
         "157",
         "35.47",
         "5568.79",
         "0.25",
         "3",
         "Canada",
         "iHerb"
        ]
       ],
       "shape": {
        "columns": 9,
        "rows": 5
       }
      },
      "text/html": [
       "<div>\n",
       "<style scoped>\n",
       "    .dataframe tbody tr th:only-of-type {\n",
       "        vertical-align: middle;\n",
       "    }\n",
       "\n",
       "    .dataframe tbody tr th {\n",
       "        vertical-align: top;\n",
       "    }\n",
       "\n",
       "    .dataframe thead th {\n",
       "        text-align: right;\n",
       "    }\n",
       "</style>\n",
       "<table border=\"1\" class=\"dataframe\">\n",
       "  <thead>\n",
       "    <tr style=\"text-align: right;\">\n",
       "      <th></th>\n",
       "      <th>Product Name</th>\n",
       "      <th>Category</th>\n",
       "      <th>Units Sold</th>\n",
       "      <th>Price</th>\n",
       "      <th>Revenue</th>\n",
       "      <th>Discount</th>\n",
       "      <th>Units Returned</th>\n",
       "      <th>Location</th>\n",
       "      <th>Platform</th>\n",
       "    </tr>\n",
       "    <tr>\n",
       "      <th>Date</th>\n",
       "      <th></th>\n",
       "      <th></th>\n",
       "      <th></th>\n",
       "      <th></th>\n",
       "      <th></th>\n",
       "      <th></th>\n",
       "      <th></th>\n",
       "      <th></th>\n",
       "      <th></th>\n",
       "    </tr>\n",
       "  </thead>\n",
       "  <tbody>\n",
       "    <tr>\n",
       "      <th>2020-01-06</th>\n",
       "      <td>Whey Protein</td>\n",
       "      <td>Protein</td>\n",
       "      <td>143</td>\n",
       "      <td>31.98</td>\n",
       "      <td>4573.14</td>\n",
       "      <td>0.03</td>\n",
       "      <td>2</td>\n",
       "      <td>Canada</td>\n",
       "      <td>Walmart</td>\n",
       "    </tr>\n",
       "    <tr>\n",
       "      <th>2020-01-06</th>\n",
       "      <td>Vitamin C</td>\n",
       "      <td>Vitamin</td>\n",
       "      <td>139</td>\n",
       "      <td>42.51</td>\n",
       "      <td>5908.89</td>\n",
       "      <td>0.04</td>\n",
       "      <td>0</td>\n",
       "      <td>UK</td>\n",
       "      <td>Amazon</td>\n",
       "    </tr>\n",
       "    <tr>\n",
       "      <th>2020-01-06</th>\n",
       "      <td>Fish Oil</td>\n",
       "      <td>Omega</td>\n",
       "      <td>161</td>\n",
       "      <td>12.91</td>\n",
       "      <td>2078.51</td>\n",
       "      <td>0.25</td>\n",
       "      <td>0</td>\n",
       "      <td>Canada</td>\n",
       "      <td>Amazon</td>\n",
       "    </tr>\n",
       "    <tr>\n",
       "      <th>2020-01-06</th>\n",
       "      <td>Multivitamin</td>\n",
       "      <td>Vitamin</td>\n",
       "      <td>140</td>\n",
       "      <td>16.07</td>\n",
       "      <td>2249.80</td>\n",
       "      <td>0.08</td>\n",
       "      <td>0</td>\n",
       "      <td>Canada</td>\n",
       "      <td>Walmart</td>\n",
       "    </tr>\n",
       "    <tr>\n",
       "      <th>2020-01-06</th>\n",
       "      <td>Pre-Workout</td>\n",
       "      <td>Performance</td>\n",
       "      <td>157</td>\n",
       "      <td>35.47</td>\n",
       "      <td>5568.79</td>\n",
       "      <td>0.25</td>\n",
       "      <td>3</td>\n",
       "      <td>Canada</td>\n",
       "      <td>iHerb</td>\n",
       "    </tr>\n",
       "  </tbody>\n",
       "</table>\n",
       "</div>"
      ],
      "text/plain": [
       "            Product Name     Category  Units Sold  Price  Revenue  Discount  \\\n",
       "Date                                                                          \n",
       "2020-01-06  Whey Protein      Protein         143  31.98  4573.14      0.03   \n",
       "2020-01-06     Vitamin C      Vitamin         139  42.51  5908.89      0.04   \n",
       "2020-01-06      Fish Oil        Omega         161  12.91  2078.51      0.25   \n",
       "2020-01-06  Multivitamin      Vitamin         140  16.07  2249.80      0.08   \n",
       "2020-01-06   Pre-Workout  Performance         157  35.47  5568.79      0.25   \n",
       "\n",
       "            Units Returned Location Platform  \n",
       "Date                                          \n",
       "2020-01-06               2   Canada  Walmart  \n",
       "2020-01-06               0       UK   Amazon  \n",
       "2020-01-06               0   Canada   Amazon  \n",
       "2020-01-06               0   Canada  Walmart  \n",
       "2020-01-06               3   Canada    iHerb  "
      ]
     },
     "execution_count": 3,
     "metadata": {},
     "output_type": "execute_result"
    }
   ],
   "source": [
    "df = pd.read_csv('Supplement_Sales_Weekly_Expanded.csv', parse_dates=['Date'], index_col='Date')\n",
    "df.head()"
   ]
  },
  {
   "cell_type": "code",
   "execution_count": 4,
   "id": "1d674ff8",
   "metadata": {},
   "outputs": [
    {
     "data": {
      "text/plain": [
       "Product Name      0\n",
       "Category          0\n",
       "Units Sold        0\n",
       "Price             0\n",
       "Revenue           0\n",
       "Discount          0\n",
       "Units Returned    0\n",
       "Location          0\n",
       "Platform          0\n",
       "dtype: int64"
      ]
     },
     "execution_count": 4,
     "metadata": {},
     "output_type": "execute_result"
    }
   ],
   "source": [
    "df.isna().sum()"
   ]
  },
  {
   "cell_type": "code",
   "execution_count": 5,
   "id": "e1a02ac8",
   "metadata": {},
   "outputs": [
    {
     "data": {
      "text/plain": [
       "(4384, 9)"
      ]
     },
     "execution_count": 5,
     "metadata": {},
     "output_type": "execute_result"
    }
   ],
   "source": [
    "df.shape"
   ]
  },
  {
   "cell_type": "code",
   "execution_count": 6,
   "id": "6529263d",
   "metadata": {},
   "outputs": [
    {
     "name": "stdout",
     "output_type": "stream",
     "text": [
      "<class 'pandas.core.frame.DataFrame'>\n",
      "DatetimeIndex: 4384 entries, 2020-01-06 to 2025-03-31\n",
      "Data columns (total 9 columns):\n",
      " #   Column          Non-Null Count  Dtype  \n",
      "---  ------          --------------  -----  \n",
      " 0   Product Name    4384 non-null   object \n",
      " 1   Category        4384 non-null   object \n",
      " 2   Units Sold      4384 non-null   int64  \n",
      " 3   Price           4384 non-null   float64\n",
      " 4   Revenue         4384 non-null   float64\n",
      " 5   Discount        4384 non-null   float64\n",
      " 6   Units Returned  4384 non-null   int64  \n",
      " 7   Location        4384 non-null   object \n",
      " 8   Platform        4384 non-null   object \n",
      "dtypes: float64(3), int64(2), object(4)\n",
      "memory usage: 342.5+ KB\n"
     ]
    }
   ],
   "source": [
    "df.info()"
   ]
  },
  {
   "cell_type": "markdown",
   "id": "626c1ca1",
   "metadata": {},
   "source": [
    "Supplement Sales - Aims\n",
    "1.\tTo identify the most and least profitable products\n",
    "2.\tTo identify best and worst platforms with respect to\n",
    "    a. Sales of products\n",
    "    b. Returns\n",
    "3.\tTo identify the best and worst locations with respect to\n",
    "    a.\tSales of products\n",
    "    b.\tReturns\n"
   ]
  },
  {
   "cell_type": "code",
   "execution_count": 9,
   "id": "b2866b3e",
   "metadata": {},
   "outputs": [
    {
     "data": {
      "text/plain": [
       "Product Name\n",
       "Whey Protein          274\n",
       "Vitamin C             274\n",
       "Fish Oil              274\n",
       "Multivitamin          274\n",
       "Pre-Workout           274\n",
       "BCAA                  274\n",
       "Creatine              274\n",
       "Zinc                  274\n",
       "Collagen Peptides     274\n",
       "Magnesium             274\n",
       "Ashwagandha           274\n",
       "Melatonin             274\n",
       "Biotin                274\n",
       "Green Tea Extract     274\n",
       "Iron Supplement       274\n",
       "Electrolyte Powder    274\n",
       "Name: count, dtype: int64"
      ]
     },
     "execution_count": 9,
     "metadata": {},
     "output_type": "execute_result"
    }
   ],
   "source": [
    "df['Product Name'].value_counts()"
   ]
  },
  {
   "cell_type": "code",
   "execution_count": 14,
   "id": "009bef3d",
   "metadata": {},
   "outputs": [
    {
     "data": {
      "application/vnd.microsoft.datawrangler.viewer.v0+json": {
       "columns": [
        {
         "name": "index",
         "rawType": "int64",
         "type": "integer"
        },
        {
         "name": "Product Name",
         "rawType": "object",
         "type": "string"
        },
        {
         "name": "Total Revenue",
         "rawType": "float64",
         "type": "float"
        }
       ],
       "conversionMethod": "pd.DataFrame",
       "ref": "6882f53a-674f-4b8d-a6c8-79de0ce434fe",
       "rows": [
        [
         "0",
         "Biotin",
         "1486798.62"
        ],
        [
         "1",
         "Zinc",
         "1482546.95"
        ],
        [
         "2",
         "Pre-Workout",
         "1477183.78"
        ],
        [
         "3",
         "BCAA",
         "1464819.63"
        ],
        [
         "4",
         "Fish Oil",
         "1451065.87"
        ],
        [
         "5",
         "Green Tea Extract",
         "1440900.05"
        ],
        [
         "6",
         "Collagen Peptides",
         "1433297.24"
        ],
        [
         "7",
         "Creatine",
         "1432518.4"
        ],
        [
         "8",
         "Iron Supplement",
         "1431582.41"
        ],
        [
         "9",
         "Whey Protein",
         "1422194.85"
        ]
       ],
       "shape": {
        "columns": 2,
        "rows": 10
       }
      },
      "text/html": [
       "<div>\n",
       "<style scoped>\n",
       "    .dataframe tbody tr th:only-of-type {\n",
       "        vertical-align: middle;\n",
       "    }\n",
       "\n",
       "    .dataframe tbody tr th {\n",
       "        vertical-align: top;\n",
       "    }\n",
       "\n",
       "    .dataframe thead th {\n",
       "        text-align: right;\n",
       "    }\n",
       "</style>\n",
       "<table border=\"1\" class=\"dataframe\">\n",
       "  <thead>\n",
       "    <tr style=\"text-align: right;\">\n",
       "      <th></th>\n",
       "      <th>Product Name</th>\n",
       "      <th>Total Revenue</th>\n",
       "    </tr>\n",
       "  </thead>\n",
       "  <tbody>\n",
       "    <tr>\n",
       "      <th>0</th>\n",
       "      <td>Biotin</td>\n",
       "      <td>1486798.62</td>\n",
       "    </tr>\n",
       "    <tr>\n",
       "      <th>1</th>\n",
       "      <td>Zinc</td>\n",
       "      <td>1482546.95</td>\n",
       "    </tr>\n",
       "    <tr>\n",
       "      <th>2</th>\n",
       "      <td>Pre-Workout</td>\n",
       "      <td>1477183.78</td>\n",
       "    </tr>\n",
       "    <tr>\n",
       "      <th>3</th>\n",
       "      <td>BCAA</td>\n",
       "      <td>1464819.63</td>\n",
       "    </tr>\n",
       "    <tr>\n",
       "      <th>4</th>\n",
       "      <td>Fish Oil</td>\n",
       "      <td>1451065.87</td>\n",
       "    </tr>\n",
       "    <tr>\n",
       "      <th>5</th>\n",
       "      <td>Green Tea Extract</td>\n",
       "      <td>1440900.05</td>\n",
       "    </tr>\n",
       "    <tr>\n",
       "      <th>6</th>\n",
       "      <td>Collagen Peptides</td>\n",
       "      <td>1433297.24</td>\n",
       "    </tr>\n",
       "    <tr>\n",
       "      <th>7</th>\n",
       "      <td>Creatine</td>\n",
       "      <td>1432518.40</td>\n",
       "    </tr>\n",
       "    <tr>\n",
       "      <th>8</th>\n",
       "      <td>Iron Supplement</td>\n",
       "      <td>1431582.41</td>\n",
       "    </tr>\n",
       "    <tr>\n",
       "      <th>9</th>\n",
       "      <td>Whey Protein</td>\n",
       "      <td>1422194.85</td>\n",
       "    </tr>\n",
       "  </tbody>\n",
       "</table>\n",
       "</div>"
      ],
      "text/plain": [
       "        Product Name  Total Revenue\n",
       "0             Biotin     1486798.62\n",
       "1               Zinc     1482546.95\n",
       "2        Pre-Workout     1477183.78\n",
       "3               BCAA     1464819.63\n",
       "4           Fish Oil     1451065.87\n",
       "5  Green Tea Extract     1440900.05\n",
       "6  Collagen Peptides     1433297.24\n",
       "7           Creatine     1432518.40\n",
       "8    Iron Supplement     1431582.41\n",
       "9       Whey Protein     1422194.85"
      ]
     },
     "execution_count": 14,
     "metadata": {},
     "output_type": "execute_result"
    }
   ],
   "source": [
    "df_rev = df.groupby('Product Name').agg({'Revenue': ['sum']}).sort_values(('Revenue', 'sum'), ascending=False)\n",
    "df_rev.columns = ['Total Revenue']\n",
    "df_rev = df_rev.reset_index()\n",
    "df_rev.head(10)"
   ]
  },
  {
   "cell_type": "code",
   "execution_count": 16,
   "id": "50315503",
   "metadata": {},
   "outputs": [
    {
     "data": {
      "text/plain": [
       "Text(0.5, 1.0, 'Top 10 Products by Total Revenue')"
      ]
     },
     "execution_count": 16,
     "metadata": {},
     "output_type": "execute_result"
    },
    {
     "data": {
      "image/png": "[encoded data removed]",
      "text/plain": [
       "<Figure size 1200x600 with 1 Axes>"
      ]
     },
     "metadata": {},
     "output_type": "display_data"
    }
   ],
   "source": [
    "sns.set(style='whitegrid')\n",
    "plt.figure(figsize=(12, 6)) \n",
    "sns.barplot(x='Total Revenue', y='Product Name', data=df_rev.head(10))\n",
    "plt.title('Top 10 Products by Total Revenue')"
   ]
  },
  {
   "cell_type": "code",
   "execution_count": null,
   "id": "996cafd4",
   "metadata": {},
   "outputs": [],
   "source": []
  }
 ],
 "metadata": {
  "kernelspec": {
   "display_name": "base",
   "language": "python",
   "name": "python3"
  },
  "language_info": {
   "codemirror_mode": {
    "name": "ipython",
    "version": 3
   },
   "file_extension": ".py",
   "mimetype": "text/x-python",
   "name": "python",
   "nbconvert_exporter": "python",
   "pygments_lexer": "ipython3",
   "version": "3.12.7"
  }
 },
 "nbformat": 4,
 "nbformat_minor": 5
}
