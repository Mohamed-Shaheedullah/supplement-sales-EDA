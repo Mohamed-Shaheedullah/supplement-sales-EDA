{
 "cells": [
  {
   "cell_type": "markdown",
   "id": "1426def5",
   "metadata": {},
   "source": [
    "### Supplement Sales EDA \n",
    "https://www.kaggle.com/datasets/zahidmughal2343/supplement-sales-data\n"
   ]
  },
  {
   "cell_type": "code",
   "execution_count": 2,
   "id": "617ad938",
   "metadata": {},
   "outputs": [],
   "source": [
    "import pandas as pd\n",
    "import numpy as np\n",
    "import seaborn as sns\n",
    "import matplotlib.pyplot as plt\n"
   ]
  },
  {
   "cell_type": "code",
   "execution_count": 3,
   "id": "75c0a34e",
   "metadata": {},
   "outputs": [
    {
     "name": "stderr",
     "output_type": "stream",
     "text": [
      "<>:1: SyntaxWarning: invalid escape sequence '\\S'\n",
      "<>:1: SyntaxWarning: invalid escape sequence '\\S'\n",
      "C:\\Users\\conif\\AppData\\Local\\Temp\\ipykernel_11492\\4252652465.py:1: SyntaxWarning: invalid escape sequence '\\S'\n",
      "  df = pd.read_csv('..\\Supplement_Sales_Weekly_Expanded.csv', parse_dates=['Date'], index_col='Date')\n"
     ]
    },
    {
     "data": {
      "application/vnd.microsoft.datawrangler.viewer.v0+json": {
       "columns": [
        {
         "name": "Date",
         "rawType": "datetime64[ns]",
         "type": "datetime"
        },
        {
         "name": "Product Name",
         "rawType": "object",
         "type": "string"
        },
        {
         "name": "Category",
         "rawType": "object",
         "type": "string"
        },
        {
         "name": "Units Sold",
         "rawType": "int64",
         "type": "integer"
        },
        {
         "name": "Price",
         "rawType": "float64",
         "type": "float"
        },
        {
         "name": "Revenue",
         "rawType": "float64",
         "type": "float"
        },
        {
         "name": "Discount",
         "rawType": "float64",
         "type": "float"
        },
        {
         "name": "Units Returned",
         "rawType": "int64",
         "type": "integer"
        },
        {
         "name": "Location",
         "rawType": "object",
         "type": "string"
        },
        {
         "name": "Platform",
         "rawType": "object",
         "type": "string"
        }
       ],
       "ref": "e1f975be-903f-44cd-984e-396f6389eedc",
       "rows": [
        [
         "2020-01-06 00:00:00",
         "Whey Protein",
         "Protein",
         "143",
         "31.98",
         "4573.14",
         "0.03",
         "2",
         "Canada",
         "Walmart"
        ],
        [
         "2020-01-06 00:00:00",
         "Vitamin C",
         "Vitamin",
         "139",
         "42.51",
         "5908.89",
         "0.04",
         "0",
         "UK",
         "Amazon"
        ],
        [
         "2020-01-06 00:00:00",
         "Fish Oil",
         "Omega",
         "161",
         "12.91",
         "2078.51",
         "0.25",
         "0",
         "Canada",
         "Amazon"
        ],
        [
         "2020-01-06 00:00:00",
         "Multivitamin",
         "Vitamin",
         "140",
         "16.07",
         "2249.8",
         "0.08",
         "0",
         "Canada",
         "Walmart"
        ],
        [
         "2020-01-06 00:00:00",
         "Pre-Workout",
         "Performance",
         "157",
         "35.47",
         "5568.79",
         "0.25",
         "3",
         "Canada",
         "iHerb"
        ]
       ],
       "shape": {
        "columns": 9,
        "rows": 5
       }
      },
      "text/html": [
       "<div>\n",
       "<style scoped>\n",
       "    .dataframe tbody tr th:only-of-type {\n",
       "        vertical-align: middle;\n",
       "    }\n",
       "\n",
       "    .dataframe tbody tr th {\n",
       "        vertical-align: top;\n",
       "    }\n",
       "\n",
       "    .dataframe thead th {\n",
       "        text-align: right;\n",
       "    }\n",
       "</style>\n",
       "<table border=\"1\" class=\"dataframe\">\n",
       "  <thead>\n",
       "    <tr style=\"text-align: right;\">\n",
       "      <th></th>\n",
       "      <th>Product Name</th>\n",
       "      <th>Category</th>\n",
       "      <th>Units Sold</th>\n",
       "      <th>Price</th>\n",
       "      <th>Revenue</th>\n",
       "      <th>Discount</th>\n",
       "      <th>Units Returned</th>\n",
       "      <th>Location</th>\n",
       "      <th>Platform</th>\n",
       "    </tr>\n",
       "    <tr>\n",
       "      <th>Date</th>\n",
       "      <th></th>\n",
       "      <th></th>\n",
       "      <th></th>\n",
       "      <th></th>\n",
       "      <th></th>\n",
       "      <th></th>\n",
       "      <th></th>\n",
       "      <th></th>\n",
       "      <th></th>\n",
       "    </tr>\n",
       "  </thead>\n",
       "  <tbody>\n",
       "    <tr>\n",
       "      <th>2020-01-06</th>\n",
       "      <td>Whey Protein</td>\n",
       "      <td>Protein</td>\n",
       "      <td>143</td>\n",
       "      <td>31.98</td>\n",
       "      <td>4573.14</td>\n",
       "      <td>0.03</td>\n",
       "      <td>2</td>\n",
       "      <td>Canada</td>\n",
       "      <td>Walmart</td>\n",
       "    </tr>\n",
       "    <tr>\n",
       "      <th>2020-01-06</th>\n",
       "      <td>Vitamin C</td>\n",
       "      <td>Vitamin</td>\n",
       "      <td>139</td>\n",
       "      <td>42.51</td>\n",
       "      <td>5908.89</td>\n",
       "      <td>0.04</td>\n",
       "      <td>0</td>\n",
       "      <td>UK</td>\n",
       "      <td>Amazon</td>\n",
       "    </tr>\n",
       "    <tr>\n",
       "      <th>2020-01-06</th>\n",
       "      <td>Fish Oil</td>\n",
       "      <td>Omega</td>\n",
       "      <td>161</td>\n",
       "      <td>12.91</td>\n",
       "      <td>2078.51</td>\n",
       "      <td>0.25</td>\n",
       "      <td>0</td>\n",
       "      <td>Canada</td>\n",
       "      <td>Amazon</td>\n",
       "    </tr>\n",
       "    <tr>\n",
       "      <th>2020-01-06</th>\n",
       "      <td>Multivitamin</td>\n",
       "      <td>Vitamin</td>\n",
       "      <td>140</td>\n",
       "      <td>16.07</td>\n",
       "      <td>2249.80</td>\n",
       "      <td>0.08</td>\n",
       "      <td>0</td>\n",
       "      <td>Canada</td>\n",
       "      <td>Walmart</td>\n",
       "    </tr>\n",
       "    <tr>\n",
       "      <th>2020-01-06</th>\n",
       "      <td>Pre-Workout</td>\n",
       "      <td>Performance</td>\n",
       "      <td>157</td>\n",
       "      <td>35.47</td>\n",
       "      <td>5568.79</td>\n",
       "      <td>0.25</td>\n",
       "      <td>3</td>\n",
       "      <td>Canada</td>\n",
       "      <td>iHerb</td>\n",
       "    </tr>\n",
       "  </tbody>\n",
       "</table>\n",
       "</div>"
      ],
      "text/plain": [
       "            Product Name     Category  Units Sold  Price  Revenue  Discount  \\\n",
       "Date                                                                          \n",
       "2020-01-06  Whey Protein      Protein         143  31.98  4573.14      0.03   \n",
       "2020-01-06     Vitamin C      Vitamin         139  42.51  5908.89      0.04   \n",
       "2020-01-06      Fish Oil        Omega         161  12.91  2078.51      0.25   \n",
       "2020-01-06  Multivitamin      Vitamin         140  16.07  2249.80      0.08   \n",
       "2020-01-06   Pre-Workout  Performance         157  35.47  5568.79      0.25   \n",
       "\n",
       "            Units Returned Location Platform  \n",
       "Date                                          \n",
       "2020-01-06               2   Canada  Walmart  \n",
       "2020-01-06               0       UK   Amazon  \n",
       "2020-01-06               0   Canada   Amazon  \n",
       "2020-01-06               0   Canada  Walmart  \n",
       "2020-01-06               3   Canada    iHerb  "
      ]
     },
     "execution_count": 3,
     "metadata": {},
     "output_type": "execute_result"
    }
   ],
   "source": [
    "df = pd.read_csv('..\\Supplement_Sales_Weekly_Expanded.csv', parse_dates=['Date'], index_col='Date')\n",
    "df.head()"
   ]
  },
  {
   "cell_type": "code",
   "execution_count": 4,
   "id": "1d674ff8",
   "metadata": {},
   "outputs": [
    {
     "data": {
      "application/vnd.microsoft.datawrangler.viewer.v0+json": {
       "columns": [
        {
         "name": "index",
         "rawType": "object",
         "type": "string"
        },
        {
         "name": "0",
         "rawType": "int64",
         "type": "integer"
        }
       ],
       "ref": "9068c72a-6405-466f-a100-c651801950bc",
       "rows": [
        [
         "Product Name",
         "0"
        ],
        [
         "Category",
         "0"
        ],
        [
         "Units Sold",
         "0"
        ],
        [
         "Price",
         "0"
        ],
        [
         "Revenue",
         "0"
        ],
        [
         "Discount",
         "0"
        ],
        [
         "Units Returned",
         "0"
        ],
        [
         "Location",
         "0"
        ],
        [
         "Platform",
         "0"
        ]
       ],
       "shape": {
        "columns": 1,
        "rows": 9
       }
      },
      "text/plain": [
       "Product Name      0\n",
       "Category          0\n",
       "Units Sold        0\n",
       "Price             0\n",
       "Revenue           0\n",
       "Discount          0\n",
       "Units Returned    0\n",
       "Location          0\n",
       "Platform          0\n",
       "dtype: int64"
      ]
     },
     "execution_count": 4,
     "metadata": {},
     "output_type": "execute_result"
    }
   ],
   "source": [
    "df.isna().sum()"
   ]
  },
  {
   "cell_type": "code",
   "execution_count": 5,
   "id": "e1a02ac8",
   "metadata": {},
   "outputs": [
    {
     "data": {
      "text/plain": [
       "(4384, 9)"
      ]
     },
     "execution_count": 5,
     "metadata": {},
     "output_type": "execute_result"
    }
   ],
   "source": [
    "df.shape"
   ]
  },
  {
   "cell_type": "code",
   "execution_count": 6,
   "id": "6529263d",
   "metadata": {},
   "outputs": [
    {
     "name": "stdout",
     "output_type": "stream",
     "text": [
      "<class 'pandas.core.frame.DataFrame'>\n",
      "DatetimeIndex: 4384 entries, 2020-01-06 to 2025-03-31\n",
      "Data columns (total 9 columns):\n",
      " #   Column          Non-Null Count  Dtype  \n",
      "---  ------          --------------  -----  \n",
      " 0   Product Name    4384 non-null   object \n",
      " 1   Category        4384 non-null   object \n",
      " 2   Units Sold      4384 non-null   int64  \n",
      " 3   Price           4384 non-null   float64\n",
      " 4   Revenue         4384 non-null   float64\n",
      " 5   Discount        4384 non-null   float64\n",
      " 6   Units Returned  4384 non-null   int64  \n",
      " 7   Location        4384 non-null   object \n",
      " 8   Platform        4384 non-null   object \n",
      "dtypes: float64(3), int64(2), object(4)\n",
      "memory usage: 342.5+ KB\n"
     ]
    }
   ],
   "source": [
    "df.info()"
   ]
  },
  {
   "cell_type": "code",
   "execution_count": 7,
   "id": "c6d074d3",
   "metadata": {},
   "outputs": [
    {
     "data": {
      "text/plain": [
       "0"
      ]
     },
     "execution_count": 7,
     "metadata": {},
     "output_type": "execute_result"
    }
   ],
   "source": [
    "df.duplicated().sum()"
   ]
  },
  {
   "cell_type": "code",
   "execution_count": 8,
   "id": "dd016937",
   "metadata": {},
   "outputs": [
    {
     "data": {
      "application/vnd.microsoft.datawrangler.viewer.v0+json": {
       "columns": [
        {
         "name": "index",
         "rawType": "object",
         "type": "string"
        },
        {
         "name": "Units Sold",
         "rawType": "float64",
         "type": "float"
        },
        {
         "name": "Price",
         "rawType": "float64",
         "type": "float"
        },
        {
         "name": "Revenue",
         "rawType": "float64",
         "type": "float"
        },
        {
         "name": "Discount",
         "rawType": "float64",
         "type": "float"
        },
        {
         "name": "Units Returned",
         "rawType": "float64",
         "type": "float"
        }
       ],
       "ref": "76464d64-867a-4f91-b7d0-931c19fd666b",
       "rows": [
        [
         "count",
         "4384.0",
         "4384.0",
         "4384.0",
         "4384.0",
         "4384.0"
        ],
        [
         "mean",
         "150.20027372262774",
         "34.78122947080292",
         "5226.569445711679",
         "0.12439781021897811",
         "1.531478102189781"
        ],
        [
         "std",
         "12.39609941807975",
         "14.198308740365297",
         "2192.4919458261916",
         "0.07179172702425862",
         "1.2584785259574351"
        ],
        [
         "min",
         "103.0",
         "10.0",
         "1284.0",
         "0.0",
         "0.0"
        ],
        [
         "25%",
         "142.0",
         "22.5975",
         "3349.3725",
         "0.06",
         "1.0"
        ],
        [
         "50%",
         "150.0",
         "34.72",
         "5173.139999999999",
         "0.12",
         "1.0"
        ],
        [
         "75%",
         "158.0",
         "46.7125",
         "7009.96",
         "0.19",
         "2.0"
        ],
        [
         "max",
         "194.0",
         "59.97",
         "10761.85",
         "0.25",
         "8.0"
        ]
       ],
       "shape": {
        "columns": 5,
        "rows": 8
       }
      },
      "text/html": [
       "<div>\n",
       "<style scoped>\n",
       "    .dataframe tbody tr th:only-of-type {\n",
       "        vertical-align: middle;\n",
       "    }\n",
       "\n",
       "    .dataframe tbody tr th {\n",
       "        vertical-align: top;\n",
       "    }\n",
       "\n",
       "    .dataframe thead th {\n",
       "        text-align: right;\n",
       "    }\n",
       "</style>\n",
       "<table border=\"1\" class=\"dataframe\">\n",
       "  <thead>\n",
       "    <tr style=\"text-align: right;\">\n",
       "      <th></th>\n",
       "      <th>Units Sold</th>\n",
       "      <th>Price</th>\n",
       "      <th>Revenue</th>\n",
       "      <th>Discount</th>\n",
       "      <th>Units Returned</th>\n",
       "    </tr>\n",
       "  </thead>\n",
       "  <tbody>\n",
       "    <tr>\n",
       "      <th>count</th>\n",
       "      <td>4384.000000</td>\n",
       "      <td>4384.000000</td>\n",
       "      <td>4384.000000</td>\n",
       "      <td>4384.000000</td>\n",
       "      <td>4384.000000</td>\n",
       "    </tr>\n",
       "    <tr>\n",
       "      <th>mean</th>\n",
       "      <td>150.200274</td>\n",
       "      <td>34.781229</td>\n",
       "      <td>5226.569446</td>\n",
       "      <td>0.124398</td>\n",
       "      <td>1.531478</td>\n",
       "    </tr>\n",
       "    <tr>\n",
       "      <th>std</th>\n",
       "      <td>12.396099</td>\n",
       "      <td>14.198309</td>\n",
       "      <td>2192.491946</td>\n",
       "      <td>0.071792</td>\n",
       "      <td>1.258479</td>\n",
       "    </tr>\n",
       "    <tr>\n",
       "      <th>min</th>\n",
       "      <td>103.000000</td>\n",
       "      <td>10.000000</td>\n",
       "      <td>1284.000000</td>\n",
       "      <td>0.000000</td>\n",
       "      <td>0.000000</td>\n",
       "    </tr>\n",
       "    <tr>\n",
       "      <th>25%</th>\n",
       "      <td>142.000000</td>\n",
       "      <td>22.597500</td>\n",
       "      <td>3349.372500</td>\n",
       "      <td>0.060000</td>\n",
       "      <td>1.000000</td>\n",
       "    </tr>\n",
       "    <tr>\n",
       "      <th>50%</th>\n",
       "      <td>150.000000</td>\n",
       "      <td>34.720000</td>\n",
       "      <td>5173.140000</td>\n",
       "      <td>0.120000</td>\n",
       "      <td>1.000000</td>\n",
       "    </tr>\n",
       "    <tr>\n",
       "      <th>75%</th>\n",
       "      <td>158.000000</td>\n",
       "      <td>46.712500</td>\n",
       "      <td>7009.960000</td>\n",
       "      <td>0.190000</td>\n",
       "      <td>2.000000</td>\n",
       "    </tr>\n",
       "    <tr>\n",
       "      <th>max</th>\n",
       "      <td>194.000000</td>\n",
       "      <td>59.970000</td>\n",
       "      <td>10761.850000</td>\n",
       "      <td>0.250000</td>\n",
       "      <td>8.000000</td>\n",
       "    </tr>\n",
       "  </tbody>\n",
       "</table>\n",
       "</div>"
      ],
      "text/plain": [
       "        Units Sold        Price       Revenue     Discount  Units Returned\n",
       "count  4384.000000  4384.000000   4384.000000  4384.000000     4384.000000\n",
       "mean    150.200274    34.781229   5226.569446     0.124398        1.531478\n",
       "std      12.396099    14.198309   2192.491946     0.071792        1.258479\n",
       "min     103.000000    10.000000   1284.000000     0.000000        0.000000\n",
       "25%     142.000000    22.597500   3349.372500     0.060000        1.000000\n",
       "50%     150.000000    34.720000   5173.140000     0.120000        1.000000\n",
       "75%     158.000000    46.712500   7009.960000     0.190000        2.000000\n",
       "max     194.000000    59.970000  10761.850000     0.250000        8.000000"
      ]
     },
     "execution_count": 8,
     "metadata": {},
     "output_type": "execute_result"
    }
   ],
   "source": [
    "df.describe()"
   ]
  },
  {
   "cell_type": "markdown",
   "id": "626c1ca1",
   "metadata": {},
   "source": [
    "Supplement Sales - Aims\n",
    "1.\tTo identify the most and least profitable products\n",
    "2.\tTo identify best and worst platforms with respect to\n",
    "    a. Sales of products\n",
    "    b. Returns\n",
    "3.\tTo identify the best and worst locations with respect to\n",
    "    a.\tSales of products\n",
    "    b.\tReturns\n"
   ]
  },
  {
   "cell_type": "code",
   "execution_count": 9,
   "id": "53929545",
   "metadata": {},
   "outputs": [
    {
     "data": {
      "application/vnd.microsoft.datawrangler.viewer.v0+json": {
       "columns": [
        {
         "name": "index",
         "rawType": "object",
         "type": "string"
        },
        {
         "name": "Product Name",
         "rawType": "object",
         "type": "unknown"
        },
        {
         "name": "Category",
         "rawType": "object",
         "type": "unknown"
        },
        {
         "name": "Location",
         "rawType": "object",
         "type": "unknown"
        },
        {
         "name": "Platform",
         "rawType": "object",
         "type": "unknown"
        }
       ],
       "ref": "d63500c1-009f-470e-8811-99e9aa206025",
       "rows": [
        [
         "count",
         "4384",
         "4384",
         "4384",
         "4384"
        ],
        [
         "unique",
         "16",
         "10",
         "3",
         "3"
        ],
        [
         "top",
         "Whey Protein",
         "Vitamin",
         "Canada",
         "iHerb"
        ],
        [
         "freq",
         "274",
         "822",
         "1507",
         "1499"
        ]
       ],
       "shape": {
        "columns": 4,
        "rows": 4
       }
      },
      "text/html": [
       "<div>\n",
       "<style scoped>\n",
       "    .dataframe tbody tr th:only-of-type {\n",
       "        vertical-align: middle;\n",
       "    }\n",
       "\n",
       "    .dataframe tbody tr th {\n",
       "        vertical-align: top;\n",
       "    }\n",
       "\n",
       "    .dataframe thead th {\n",
       "        text-align: right;\n",
       "    }\n",
       "</style>\n",
       "<table border=\"1\" class=\"dataframe\">\n",
       "  <thead>\n",
       "    <tr style=\"text-align: right;\">\n",
       "      <th></th>\n",
       "      <th>Product Name</th>\n",
       "      <th>Category</th>\n",
       "      <th>Location</th>\n",
       "      <th>Platform</th>\n",
       "    </tr>\n",
       "  </thead>\n",
       "  <tbody>\n",
       "    <tr>\n",
       "      <th>count</th>\n",
       "      <td>4384</td>\n",
       "      <td>4384</td>\n",
       "      <td>4384</td>\n",
       "      <td>4384</td>\n",
       "    </tr>\n",
       "    <tr>\n",
       "      <th>unique</th>\n",
       "      <td>16</td>\n",
       "      <td>10</td>\n",
       "      <td>3</td>\n",
       "      <td>3</td>\n",
       "    </tr>\n",
       "    <tr>\n",
       "      <th>top</th>\n",
       "      <td>Whey Protein</td>\n",
       "      <td>Vitamin</td>\n",
       "      <td>Canada</td>\n",
       "      <td>iHerb</td>\n",
       "    </tr>\n",
       "    <tr>\n",
       "      <th>freq</th>\n",
       "      <td>274</td>\n",
       "      <td>822</td>\n",
       "      <td>1507</td>\n",
       "      <td>1499</td>\n",
       "    </tr>\n",
       "  </tbody>\n",
       "</table>\n",
       "</div>"
      ],
      "text/plain": [
       "        Product Name Category Location Platform\n",
       "count           4384     4384     4384     4384\n",
       "unique            16       10        3        3\n",
       "top     Whey Protein  Vitamin   Canada    iHerb\n",
       "freq             274      822     1507     1499"
      ]
     },
     "execution_count": 9,
     "metadata": {},
     "output_type": "execute_result"
    }
   ],
   "source": [
    "df.describe(include='object')"
   ]
  },
  {
   "cell_type": "code",
   "execution_count": 14,
   "id": "41da7ee2",
   "metadata": {},
   "outputs": [
    {
     "data": {
      "application/vnd.microsoft.datawrangler.viewer.v0+json": {
       "columns": [
        {
         "name": "index",
         "rawType": "int64",
         "type": "integer"
        },
        {
         "name": "Date",
         "rawType": "datetime64[ns]",
         "type": "datetime"
        },
        {
         "name": "Revenue",
         "rawType": "float64",
         "type": "float"
        },
        {
         "name": "Units Sold",
         "rawType": "int64",
         "type": "integer"
        },
        {
         "name": "Units Returned",
         "rawType": "int64",
         "type": "integer"
        }
       ],
       "ref": "e31eee77-ac1d-4286-a6d2-73cde50d15fb",
       "rows": [
        [
         "0",
         "2020-01-06 00:00:00",
         "71848.56",
         "2406",
         "19"
        ],
        [
         "1",
         "2020-01-13 00:00:00",
         "72416.18000000001",
         "2374",
         "27"
        ],
        [
         "2",
         "2020-01-20 00:00:00",
         "76152.42",
         "2370",
         "26"
        ],
        [
         "3",
         "2020-01-27 00:00:00",
         "70306.73",
         "2397",
         "29"
        ],
        [
         "4",
         "2020-02-03 00:00:00",
         "98011.64",
         "2384",
         "34"
        ]
       ],
       "shape": {
        "columns": 4,
        "rows": 5
       }
      },
      "text/html": [
       "<div>\n",
       "<style scoped>\n",
       "    .dataframe tbody tr th:only-of-type {\n",
       "        vertical-align: middle;\n",
       "    }\n",
       "\n",
       "    .dataframe tbody tr th {\n",
       "        vertical-align: top;\n",
       "    }\n",
       "\n",
       "    .dataframe thead th {\n",
       "        text-align: right;\n",
       "    }\n",
       "</style>\n",
       "<table border=\"1\" class=\"dataframe\">\n",
       "  <thead>\n",
       "    <tr style=\"text-align: right;\">\n",
       "      <th></th>\n",
       "      <th>Date</th>\n",
       "      <th>Revenue</th>\n",
       "      <th>Units Sold</th>\n",
       "      <th>Units Returned</th>\n",
       "    </tr>\n",
       "  </thead>\n",
       "  <tbody>\n",
       "    <tr>\n",
       "      <th>0</th>\n",
       "      <td>2020-01-06</td>\n",
       "      <td>71848.56</td>\n",
       "      <td>2406</td>\n",
       "      <td>19</td>\n",
       "    </tr>\n",
       "    <tr>\n",
       "      <th>1</th>\n",
       "      <td>2020-01-13</td>\n",
       "      <td>72416.18</td>\n",
       "      <td>2374</td>\n",
       "      <td>27</td>\n",
       "    </tr>\n",
       "    <tr>\n",
       "      <th>2</th>\n",
       "      <td>2020-01-20</td>\n",
       "      <td>76152.42</td>\n",
       "      <td>2370</td>\n",
       "      <td>26</td>\n",
       "    </tr>\n",
       "    <tr>\n",
       "      <th>3</th>\n",
       "      <td>2020-01-27</td>\n",
       "      <td>70306.73</td>\n",
       "      <td>2397</td>\n",
       "      <td>29</td>\n",
       "    </tr>\n",
       "    <tr>\n",
       "      <th>4</th>\n",
       "      <td>2020-02-03</td>\n",
       "      <td>98011.64</td>\n",
       "      <td>2384</td>\n",
       "      <td>34</td>\n",
       "    </tr>\n",
       "  </tbody>\n",
       "</table>\n",
       "</div>"
      ],
      "text/plain": [
       "        Date   Revenue  Units Sold  Units Returned\n",
       "0 2020-01-06  71848.56        2406              19\n",
       "1 2020-01-13  72416.18        2374              27\n",
       "2 2020-01-20  76152.42        2370              26\n",
       "3 2020-01-27  70306.73        2397              29\n",
       "4 2020-02-03  98011.64        2384              34"
      ]
     },
     "execution_count": 14,
     "metadata": {},
     "output_type": "execute_result"
    }
   ],
   "source": [
    "df.groupby(\"Date\").aggregate({'Revenue': 'sum', 'Units Sold': 'sum', 'Units Returned' : 'sum'}).reset_index().head()"
   ]
  },
  {
   "cell_type": "code",
   "execution_count": 16,
   "id": "0ddf508f",
   "metadata": {},
   "outputs": [
    {
     "data": {
      "text/plain": [
       "Text(0.5, 1.0, 'Revenue Over Time')"
      ]
     },
     "execution_count": 16,
     "metadata": {},
     "output_type": "execute_result"
    },
    {
     "data": {
      "image/png": "[encoded data removed]",
      "text/plain": [
       "<Figure size 640x480 with 1 Axes>"
      ]
     },
     "metadata": {},
     "output_type": "display_data"
    }
   ],
   "source": [
    "sns.lineplot(data=df, x='Date', y='Revenue')\n",
    "plt.xticks(rotation=45)\n",
    "plt.title('Revenue Over Time')  "
   ]
  },
  {
   "cell_type": "code",
   "execution_count": null,
   "id": "b2866b3e",
   "metadata": {},
   "outputs": [
    {
     "data": {
      "application/vnd.microsoft.datawrangler.viewer.v0+json": {
       "columns": [
        {
         "name": "Product Name",
         "rawType": "object",
         "type": "string"
        },
        {
         "name": "count",
         "rawType": "int64",
         "type": "integer"
        }
       ],
       "ref": "56763893-9d43-400f-b848-dc1c9c15f42b",
       "rows": [
        [
         "Whey Protein",
         "274"
        ],
        [
         "Vitamin C",
         "274"
        ],
        [
         "Fish Oil",
         "274"
        ],
        [
         "Multivitamin",
         "274"
        ],
        [
         "Pre-Workout",
         "274"
        ],
        [
         "BCAA",
         "274"
        ],
        [
         "Creatine",
         "274"
        ],
        [
         "Zinc",
         "274"
        ],
        [
         "Collagen Peptides",
         "274"
        ],
        [
         "Magnesium",
         "274"
        ],
        [
         "Ashwagandha",
         "274"
        ],
        [
         "Melatonin",
         "274"
        ],
        [
         "Biotin",
         "274"
        ],
        [
         "Green Tea Extract",
         "274"
        ],
        [
         "Iron Supplement",
         "274"
        ],
        [
         "Electrolyte Powder",
         "274"
        ]
       ],
       "shape": {
        "columns": 1,
        "rows": 16
       }
      },
      "text/plain": [
       "Product Name\n",
       "Whey Protein          274\n",
       "Vitamin C             274\n",
       "Fish Oil              274\n",
       "Multivitamin          274\n",
       "Pre-Workout           274\n",
       "BCAA                  274\n",
       "Creatine              274\n",
       "Zinc                  274\n",
       "Collagen Peptides     274\n",
       "Magnesium             274\n",
       "Ashwagandha           274\n",
       "Melatonin             274\n",
       "Biotin                274\n",
       "Green Tea Extract     274\n",
       "Iron Supplement       274\n",
       "Electrolyte Powder    274\n",
       "Name: count, dtype: int64"
      ]
     },
     "execution_count": 7,
     "metadata": {},
     "output_type": "execute_result"
    }
   ],
   "source": [
    "df['Product Name'].value_counts()"
   ]
  },
  {
   "cell_type": "code",
   "execution_count": null,
   "id": "009bef3d",
   "metadata": {},
   "outputs": [
    {
     "data": {
      "application/vnd.microsoft.datawrangler.viewer.v0+json": {
       "columns": [
        {
         "name": "index",
         "rawType": "int64",
         "type": "integer"
        },
        {
         "name": "Product Name",
         "rawType": "object",
         "type": "string"
        },
        {
         "name": "Total Revenue",
         "rawType": "float64",
         "type": "float"
        }
       ],
       "ref": "7abb9ffb-8a33-4195-b4c8-94df14e4b264",
       "rows": [
        [
         "0",
         "Biotin",
         "1486798.62"
        ],
        [
         "1",
         "Zinc",
         "1482546.95"
        ],
        [
         "2",
         "Pre-Workout",
         "1477183.78"
        ],
        [
         "3",
         "BCAA",
         "1464819.63"
        ],
        [
         "4",
         "Fish Oil",
         "1451065.87"
        ],
        [
         "5",
         "Green Tea Extract",
         "1440900.05"
        ],
        [
         "6",
         "Collagen Peptides",
         "1433297.24"
        ],
        [
         "7",
         "Creatine",
         "1432518.4"
        ],
        [
         "8",
         "Iron Supplement",
         "1431582.41"
        ],
        [
         "9",
         "Whey Protein",
         "1422194.85"
        ]
       ],
       "shape": {
        "columns": 2,
        "rows": 10
       }
      },
      "text/html": [
       "<div>\n",
       "<style scoped>\n",
       "    .dataframe tbody tr th:only-of-type {\n",
       "        vertical-align: middle;\n",
       "    }\n",
       "\n",
       "    .dataframe tbody tr th {\n",
       "        vertical-align: top;\n",
       "    }\n",
       "\n",
       "    .dataframe thead th {\n",
       "        text-align: right;\n",
       "    }\n",
       "</style>\n",
       "<table border=\"1\" class=\"dataframe\">\n",
       "  <thead>\n",
       "    <tr style=\"text-align: right;\">\n",
       "      <th></th>\n",
       "      <th>Product Name</th>\n",
       "      <th>Total Revenue</th>\n",
       "    </tr>\n",
       "  </thead>\n",
       "  <tbody>\n",
       "    <tr>\n",
       "      <th>0</th>\n",
       "      <td>Biotin</td>\n",
       "      <td>1486798.62</td>\n",
       "    </tr>\n",
       "    <tr>\n",
       "      <th>1</th>\n",
       "      <td>Zinc</td>\n",
       "      <td>1482546.95</td>\n",
       "    </tr>\n",
       "    <tr>\n",
       "      <th>2</th>\n",
       "      <td>Pre-Workout</td>\n",
       "      <td>1477183.78</td>\n",
       "    </tr>\n",
       "    <tr>\n",
       "      <th>3</th>\n",
       "      <td>BCAA</td>\n",
       "      <td>1464819.63</td>\n",
       "    </tr>\n",
       "    <tr>\n",
       "      <th>4</th>\n",
       "      <td>Fish Oil</td>\n",
       "      <td>1451065.87</td>\n",
       "    </tr>\n",
       "    <tr>\n",
       "      <th>5</th>\n",
       "      <td>Green Tea Extract</td>\n",
       "      <td>1440900.05</td>\n",
       "    </tr>\n",
       "    <tr>\n",
       "      <th>6</th>\n",
       "      <td>Collagen Peptides</td>\n",
       "      <td>1433297.24</td>\n",
       "    </tr>\n",
       "    <tr>\n",
       "      <th>7</th>\n",
       "      <td>Creatine</td>\n",
       "      <td>1432518.40</td>\n",
       "    </tr>\n",
       "    <tr>\n",
       "      <th>8</th>\n",
       "      <td>Iron Supplement</td>\n",
       "      <td>1431582.41</td>\n",
       "    </tr>\n",
       "    <tr>\n",
       "      <th>9</th>\n",
       "      <td>Whey Protein</td>\n",
       "      <td>1422194.85</td>\n",
       "    </tr>\n",
       "  </tbody>\n",
       "</table>\n",
       "</div>"
      ],
      "text/plain": [
       "        Product Name  Total Revenue\n",
       "0             Biotin     1486798.62\n",
       "1               Zinc     1482546.95\n",
       "2        Pre-Workout     1477183.78\n",
       "3               BCAA     1464819.63\n",
       "4           Fish Oil     1451065.87\n",
       "5  Green Tea Extract     1440900.05\n",
       "6  Collagen Peptides     1433297.24\n",
       "7           Creatine     1432518.40\n",
       "8    Iron Supplement     1431582.41\n",
       "9       Whey Protein     1422194.85"
      ]
     },
     "execution_count": 8,
     "metadata": {},
     "output_type": "execute_result"
    }
   ],
   "source": [
    "df_rev = df.groupby('Product Name').agg({'Revenue': ['sum']}).sort_values(('Revenue', 'sum'), ascending=False)\n",
    "df_rev.columns = ['Total Revenue']\n",
    "df_rev = df_rev.reset_index()\n",
    "df_rev.head(10)"
   ]
  },
  {
   "cell_type": "code",
   "execution_count": null,
   "id": "50315503",
   "metadata": {},
   "outputs": [
    {
     "data": {
      "text/plain": [
       "Text(0.5, 1.0, 'Top 10 Products by Total Revenue')"
      ]
     },
     "execution_count": 9,
     "metadata": {},
     "output_type": "execute_result"
    },
    {
     "data": {
      "image/png": "[encoded data removed]",
      "text/plain": [
       "<Figure size 1200x600 with 1 Axes>"
      ]
     },
     "metadata": {},
     "output_type": "display_data"
    }
   ],
   "source": [
    "sns.set(style='whitegrid')\n",
    "plt.figure(figsize=(12, 6)) \n",
    "sns.barplot(x='Total Revenue', y='Product Name', data=df_rev.head(10))\n",
    "plt.title('Top 10 Products by Total Revenue')"
   ]
  },
  {
   "cell_type": "code",
   "execution_count": null,
   "id": "996cafd4",
   "metadata": {},
   "outputs": [
    {
     "data": {
      "text/plain": [
       "Text(0.5, 1.0, 'Bottom 5 Products by Total Revenue')"
      ]
     },
     "execution_count": 10,
     "metadata": {},
     "output_type": "execute_result"
    },
    {
     "data": {
      "image/png": "[encoded data removed]",
      "text/plain": [
       "<Figure size 1200x600 with 1 Axes>"
      ]
     },
     "metadata": {},
     "output_type": "display_data"
    }
   ],
   "source": [
    "sns.set(style='whitegrid')\n",
    "plt.figure(figsize=(12, 6)) \n",
    "sns.barplot(x='Total Revenue', y='Product Name', data=df_rev.tail(5))\n",
    "plt.title('Bottom 5 Products by Total Revenue')"
   ]
  }
 ],
 "metadata": {
  "kernelspec": {
   "display_name": "base",
   "language": "python",
   "name": "python3"
  },
  "language_info": {
   "codemirror_mode": {
    "name": "ipython",
    "version": 3
   },
   "file_extension": ".py",
   "mimetype": "text/x-python",
   "name": "python",
   "nbconvert_exporter": "python",
   "pygments_lexer": "ipython3",
   "version": "3.12.7"
  }
 },
 "nbformat": 4,
 "nbformat_minor": 5
}
